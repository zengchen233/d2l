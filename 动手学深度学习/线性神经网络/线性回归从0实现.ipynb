{
 "cells": [
  {
   "cell_type": "code",
   "execution_count": 1,
   "id": "0ebfaad0",
   "metadata": {},
   "outputs": [],
   "source": [
    "%matplotlib inline \n",
    "import random\n",
    "import torch\n",
    "from d2l import torch as d2l"
   ]
  },
  {
   "cell_type": "markdown",
   "id": "6430da96",
   "metadata": {},
   "source": [
    "![](https://cdn.zengchen233.cn/img/202309170925263.PNG)"
   ]
  },
  {
   "cell_type": "code",
   "execution_count": 2,
   "id": "47a8d9ae",
   "metadata": {},
   "outputs": [],
   "source": [
    "# %matplotlib inline 可以在Ipython编译器里直接使用，功能是可以内嵌绘图，并且可以省略掉plt.show()这一步。\n",
    "def synthetic_data(w, b, num_examples):\n",
    "    '''生成 y=wx+b+噪声'''\n",
    "    X = torch.normal(0, 1, (num_examples, len(w))) # 均值为0，标准差为1\n",
    "    y = torch.matmul(X, w) + b\n",
    "    y += torch.normal(0, 0.01, y.shape)\n",
    "    return X, y.reshape((-1, 1))"
   ]
  },
  {
   "cell_type": "code",
   "execution_count": 3,
   "id": "636352ce",
   "metadata": {},
   "outputs": [],
   "source": [
    "true_w = torch.tensor([2, -3.4])\n",
    "true_b = 4.2\n",
    "features, labels = synthetic_data(true_w, true_b, 1000)"
   ]
  },
  {
   "cell_type": "code",
   "execution_count": 4,
   "id": "fafa0700",
   "metadata": {},
   "outputs": [
    {
     "name": "stdout",
     "output_type": "stream",
     "text": [
      "features: tensor([-0.6150, -2.2974]) \n",
      "labels: tensor([10.7872])\n",
      "1000\n",
      "1000\n"
     ]
    }
   ],
   "source": [
    "print('features:', features[0], '\\nlabels:',labels[0])\n",
    "print(len(features))\n",
    "print(len(labels))"
   ]
  },
  {
   "cell_type": "code",
   "execution_count": 5,
   "id": "e9553401",
   "metadata": {
    "scrolled": false
   },
   "outputs": [
    {
     "data": {
      "text/plain": [
       "<matplotlib.collections.PathCollection at 0x105725be0>"
      ]
     },
     "execution_count": 5,
     "metadata": {},
     "output_type": "execute_result"
    },
    {
     "data": {
      "image/png": "[encoded data removed]",
      "text/plain": [
       "<Figure size 640x480 with 1 Axes>"
      ]
     },
     "metadata": {},
     "output_type": "display_data"
    }
   ],
   "source": [
    "d2l.set_figsize\n",
    "d2l.plt.scatter(features[:, 1].detach().numpy(),\n",
    "               labels.detach().numpy(), 1)"
   ]
  },
  {
   "cell_type": "code",
   "execution_count": 6,
   "id": "6b1164b9",
   "metadata": {},
   "outputs": [],
   "source": [
    "def data_iter(batch_size, features, labels): # 该函数接收批量大小，特征矩阵和向量坐标作为输入，生成大小为batch_size的小批量\n",
    "    num_examples = len(features)\n",
    "    indices = list(range(num_examples))\n",
    "    random.shuffle(indices)\n",
    "    for i in range(0, num_examples, batch_size):\n",
    "        batch_index = torch.tensor(\n",
    "            indices[i: min(i + batch_size, num_examples)])\n",
    "        yield features[batch_index], labels[batch_index] # 使用yield的函数是有状态的，返回一个值后，还可以继续调用，直到所有yield都被用完"
   ]
  },
  {
   "cell_type": "code",
   "execution_count": 7,
   "id": "4206c30d",
   "metadata": {},
   "outputs": [
    {
     "name": "stdout",
     "output_type": "stream",
     "text": [
      "tensor([[ 0.3523,  1.3666],\n",
      "        [-0.6864, -0.3442],\n",
      "        [-1.6610, -0.2404],\n",
      "        [ 0.8846,  0.6332],\n",
      "        [-0.5617, -0.2399],\n",
      "        [-1.9018, -0.2738],\n",
      "        [ 1.5919, -0.2028],\n",
      "        [ 0.0294,  0.2552],\n",
      "        [ 1.3052, -0.4297],\n",
      "        [-0.3588, -1.1261]]) \n",
      " tensor([[0.2403],\n",
      "        [4.0052],\n",
      "        [1.6954],\n",
      "        [3.8130],\n",
      "        [3.9149],\n",
      "        [1.3302],\n",
      "        [8.0747],\n",
      "        [3.3810],\n",
      "        [8.2760],\n",
      "        [7.3097]])\n"
     ]
    }
   ],
   "source": [
    "batch_size = 10\n",
    "\n",
    "for X, y in data_iter(batch_size, features, labels):\n",
    "    print(X,'\\n',y)\n",
    "    break"
   ]
  },
  {
   "cell_type": "code",
   "execution_count": 8,
   "id": "b5d55a9b",
   "metadata": {},
   "outputs": [],
   "source": [
    "# 定义初始化模型参数\n",
    "w = torch.normal(0, 0.01, size=(2, 1), requires_grad=True)\n",
    "b = torch.zeros(1, requires_grad=True)"
   ]
  },
  {
   "cell_type": "code",
   "execution_count": 9,
   "id": "79c878c8",
   "metadata": {},
   "outputs": [],
   "source": [
    "def linreg(X, w, b):\n",
    "    return torch.matmul(X, w) + b"
   ]
  },
  {
   "cell_type": "markdown",
   "id": "b98e53e4",
   "metadata": {},
   "source": [
    "<h3><center>$J(w,b) = \\frac{1}{2m} \\sum_{i=1}^{m}（\\hat{y}-y）^{2}$</center></h3>"
   ]
  },
  {
   "cell_type": "code",
   "execution_count": 10,
   "id": "258b61bf",
   "metadata": {},
   "outputs": [],
   "source": [
    "def squared_loss(y_hat, y):\n",
    "    return (y_hat - y.reshape(y_hat.shape))**2 / 2"
   ]
  },
  {
   "cell_type": "code",
   "execution_count": 11,
   "id": "2638dc26",
   "metadata": {},
   "outputs": [],
   "source": [
    "def sgd(params, lr, batch_size):\n",
    "    '''小批量随机梯度下降'''\n",
    "    with torch.no_grad(): # 更新的时候不要参与梯度计算\n",
    "        for param in params:\n",
    "            param -= lr * param.grad / batch_size\n",
    "            param.grad.zero_()"
   ]
  },
  {
   "cell_type": "code",
   "execution_count": 12,
   "id": "f97108f2",
   "metadata": {},
   "outputs": [],
   "source": [
    "lr = 0.03\n",
    "num_epochs = 3\n",
    "net = linreg\n",
    "loss = squared_loss"
   ]
  },
  {
   "cell_type": "code",
   "execution_count": 13,
   "id": "db463f0a",
   "metadata": {},
   "outputs": [
    {
     "name": "stdout",
     "output_type": "stream",
     "text": [
      "epoch 1, loss 0.023871\n",
      "epoch 2, loss 0.000088\n",
      "epoch 3, loss 0.000049\n"
     ]
    }
   ],
   "source": [
    "for epoch in range(num_epochs):\n",
    "    for X, y in data_iter(batch_size, features, labels):\n",
    "        l = loss(net(X, w, b), y)  # X和y的小批量损失, xy只是数据集当中的一个数\n",
    "        # 因为l形状是(batch_size,1)，而不是一个标量。l中的所有元素被加到一起，\n",
    "        # 并以此计算关于[w,b]的梯度\n",
    "        l.sum().backward()\n",
    "        sgd([w, b], lr, batch_size)  # 使用参数的梯度更新参数\n",
    "    with torch.no_grad():\n",
    "        train_l = loss(net(features, w, b), labels)\n",
    "        print(f'epoch {epoch + 1}, loss {float(train_l.mean()):f}')"
   ]
  },
  {
   "cell_type": "code",
   "execution_count": 14,
   "id": "bf535fc8",
   "metadata": {},
   "outputs": [
    {
     "name": "stdout",
     "output_type": "stream",
     "text": [
      "w的估计误差: tensor([-0.0002, -0.0003], grad_fn=<SubBackward0>)\n",
      "b的估计误差: tensor([0.0007], grad_fn=<RsubBackward1>)\n"
     ]
    }
   ],
   "source": [
    "print(f'w的估计误差: {true_w - w.reshape(true_w.shape)}')\n",
    "print(f'b的估计误差: {true_b - b}')"
   ]
  }
 ],
 "metadata": {
  "kernelspec": {
   "display_name": "d2l",
   "language": "python",
   "name": "d2l"
  },
  "language_info": {
   "codemirror_mode": {
    "name": "ipython",
    "version": 3
   },
   "file_extension": ".py",
   "mimetype": "text/x-python",
   "name": "python",
   "nbconvert_exporter": "python",
   "pygments_lexer": "ipython3",
   "version": "3.8.17"
  }
 },
 "nbformat": 4,
 "nbformat_minor": 5
}
