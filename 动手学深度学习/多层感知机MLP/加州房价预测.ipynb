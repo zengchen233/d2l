{
 "cells": [
  {
   "cell_type": "markdown",
   "id": "cb02b541",
   "metadata": {},
   "source": [
    "# MLP简单版"
   ]
  },
  {
   "cell_type": "code",
   "execution_count": 1,
   "id": "ea74160e",
   "metadata": {},
   "outputs": [],
   "source": [
    "import torch\n",
    "import torch.nn as nn\n",
    "import wandb # 参数可视化\n",
    "import pandas as pd\n",
    "from torch.nn import functional as F\n",
    "from tqdm import tqdm # 进度条\n",
    "import numpy as np\n",
    "from d2l import torch as d2l\n",
    "from torch.utils import data"
   ]
  },
  {
   "cell_type": "code",
   "execution_count": 2,
   "id": "bdf69760",
   "metadata": {},
   "outputs": [],
   "source": [
    "class MLP(nn.Module):\n",
    "    def __init__(self, in_features):\n",
    "        super(self).__init__()\n",
    "        # 每层神经元数量:以漏斗形逐层递减\n",
    "        self.layer1 = nn.Linear(in_features, 256)\n",
    "        self.layer2 = nn.Linear(256, 64)\n",
    "        self.layer3 = nn.Linear(64, 16)\n",
    "        self.out = nn.Linear(16, 1)\n",
    "        \n",
    "    def forward(self, X):\n",
    "        X = F.relu(self.layer1(X))\n",
    "        X = F.relu(self.layer2(X))\n",
    "        X = F.relu(self.layer3(X))\n",
    "        return self.out(X)\n",
    "    \n",
    "device = torch.device('mps' if torch.backends.mps.is_available()\n",
    "                      else 'cpu')"
   ]
  },
  {
   "cell_type": "code",
   "execution_count": 3,
   "id": "d403beaf",
   "metadata": {},
   "outputs": [],
   "source": [
    "loss = nn.MSELoss()"
   ]
  },
  {
   "cell_type": "code",
   "execution_count": 4,
   "id": "6fd2abb2",
   "metadata": {},
   "outputs": [],
   "source": [
    "def log_rmse(net, features, labels):\n",
    "    # 为了在取对数时进一步稳定该值，将小于1的值设置为1\n",
    "    clipped_preds = torch.clamp(net(features), 1, float('inf'))\n",
    "    rmse = torch.sqrt(criterion(torch.log(clipped_preds),\n",
    "                           torch.log(labels)))\n",
    "    return rmse.item()"
   ]
  },
  {
   "cell_type": "code",
   "execution_count": 5,
   "id": "c5f9c19f",
   "metadata": {},
   "outputs": [
    {
     "data": {
      "text/plain": [
       "((47439, 41), (31626, 40))"
      ]
     },
     "execution_count": 5,
     "metadata": {},
     "output_type": "execute_result"
    }
   ],
   "source": [
    "test_data = pd.read_csv('../data/test.csv')\n",
    "train_data = pd.read_csv('../data/train.csv')\n",
    "train_data.shape, test_data.shape"
   ]
  },
  {
   "cell_type": "code",
   "execution_count": 6,
   "id": "c88ae846",
   "metadata": {},
   "outputs": [],
   "source": [
    "# 去掉冗余数据\n",
    "redundant_data = ['Address', 'Summary', 'City', 'State', 'Zip']\n",
    "for data in redundant_data:\n",
    "    del train_data[data], test_data[data]"
   ]
  },
  {
   "cell_type": "code",
   "execution_count": 7,
   "id": "2311b511",
   "metadata": {},
   "outputs": [],
   "source": [
    "# 数据预处理 , Sold Price这里可能有点问题,因为test里面没有Sold Price\n",
    "large_vel_cols = ['Lot', 'Total interior livable area', \n",
    "                  'Tax assessed value', 'Annual tax amount', \n",
    "                  'Listed Price', 'Last Sold Price']\n",
    "\n",
    "for data in large_vel_cols:\n",
    "    train_data[data] = np.log(train_data[data]+1)\n",
    "    #if data != 'Sold Price':\n",
    "    test_data[data] = np.log(test_data[data]+1)"
   ]
  },
  {
   "cell_type": "code",
   "execution_count": 8,
   "id": "c1823ff5",
   "metadata": {},
   "outputs": [
    {
     "name": "stdout",
     "output_type": "stream",
     "text": [
      "   Id  Sold Price          Type  Year built  Listed Price Last Sold On  \\\n",
      "0   0   3825000.0  SingleFamily      1969.0     15.250119          NaN   \n",
      "1   1    505000.0  SingleFamily      1926.0     13.171155   2019-08-30   \n",
      "2   2    140000.0  SingleFamily      1958.0     12.100718          NaN   \n",
      "3   3   1775000.0  SingleFamily      1947.0     14.454730   2016-08-30   \n",
      "\n",
      "   Last Sold Price  \n",
      "0              NaN  \n",
      "1        12.700772  \n",
      "2              NaN  \n",
      "3        14.220976  \n"
     ]
    }
   ],
   "source": [
    "print(train_data.iloc[0: 4, [0, 1, 2, 3, -3, -2, -1]])"
   ]
  },
  {
   "cell_type": "code",
   "execution_count": 9,
   "id": "bdbcc118",
   "metadata": {},
   "outputs": [
    {
     "name": "stdout",
     "output_type": "stream",
     "text": [
      "      Id          Type  Year built      Heating  Listed Price Last Sold On  \\\n",
      "0  47439  SingleFamily      2020.0      Central     13.592243   2020-07-01   \n",
      "1  47440  SingleFamily      1924.0  Natural Gas     13.081439   2020-11-03   \n",
      "2  47441  SingleFamily      2020.0      Central     13.641039          NaN   \n",
      "3  47442  SingleFamily      2020.0      Central     13.604667   2020-09-21   \n",
      "\n",
      "   Last Sold Price  \n",
      "0        13.615841  \n",
      "1         9.615872  \n",
      "2              NaN  \n",
      "3        13.604791  \n"
     ]
    }
   ],
   "source": [
    "print(test_data.iloc[0: 4, [0, 1, 2, 3, -3, -2, -1]])"
   ]
  },
  {
   "cell_type": "code",
   "execution_count": 10,
   "id": "935a95ce",
   "metadata": {},
   "outputs": [
    {
     "data": {
      "text/plain": [
       "(79065, 34)"
      ]
     },
     "execution_count": 10,
     "metadata": {},
     "output_type": "execute_result"
    }
   ],
   "source": [
    "# 把train和test去除id后放一起，train也要去掉label\n",
    "all_features = pd.concat((train_data.iloc[:,2:],test_data.iloc[:,1:])) # 无Sold Price版本\n",
    "\n",
    "# 时间数据赋日期格式\n",
    "all_features['Listed On'] = pd.to_datetime(all_features['Listed On'], format=\"%Y-%m-%d\")\n",
    "all_features['Last Sold On'] = pd.to_datetime(all_features['Last Sold On'], format=\"%Y-%m-%d\")\n",
    "\n",
    "all_features.shape"
   ]
  },
  {
   "cell_type": "code",
   "execution_count": 11,
   "id": "66a3fd63",
   "metadata": {},
   "outputs": [
    {
     "name": "stdout",
     "output_type": "stream",
     "text": [
      "Type                 174\n",
      "Heating              2660\n",
      "Cooling              911\n",
      "Parking              9913\n",
      "Bedrooms             278\n",
      "Region               1259\n",
      "Elementary School    3568\n",
      "Middle School        809\n",
      "High School          922\n",
      "Flooring             1740\n",
      "Heating features     1763\n",
      "Cooling features     596\n",
      "Appliances included  11290\n",
      "Laundry features     3031\n",
      "Parking features     9695\n"
     ]
    }
   ],
   "source": [
    "# pandas的object是python里的str\n",
    "for obj in all_features.dtypes[all_features.dtypes == 'object'].index: # 然后通过条件筛选出数据类型为 'object' 的列，即类别型特征列。\n",
    "    print(obj.ljust(20), len(all_features[obj].unique())) # 这部分代码用于获取每个类别型特征列中不同取值的数量，即唯一值的数量"
   ]
  },
  {
   "cell_type": "code",
   "execution_count": null,
   "id": "65a97ab0",
   "metadata": {},
   "outputs": [],
   "source": []
  }
 ],
 "metadata": {
  "kernelspec": {
   "display_name": "d2l",
   "language": "python",
   "name": "d2l"
  },
  "language_info": {
   "codemirror_mode": {
    "name": "ipython",
    "version": 3
   },
   "file_extension": ".py",
   "mimetype": "text/x-python",
   "name": "python",
   "nbconvert_exporter": "python",
   "pygments_lexer": "ipython3",
   "version": "3.8.17"
  }
 },
 "nbformat": 4,
 "nbformat_minor": 5
}
